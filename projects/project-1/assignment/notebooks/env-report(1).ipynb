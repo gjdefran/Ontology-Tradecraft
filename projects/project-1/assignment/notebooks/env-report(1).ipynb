{
 "cells": [
  {
   "cell_type": "code",
   "execution_count": 1,
   "id": "c687ce6e-e78b-4284-a8d8-f992ade61ee9",
   "metadata": {},
   "outputs": [
    {
     "ename": "ModuleNotFoundError",
     "evalue": "No module named 'rdflib'",
     "output_type": "error",
     "traceback": [
      "\u001b[0;31m---------------------------------------------------------------------------\u001b[0m",
      "\u001b[0;31mModuleNotFoundError\u001b[0m                       Traceback (most recent call last)",
      "Cell \u001b[0;32mIn[1], line 4\u001b[0m\n\u001b[1;32m      2\u001b[0m \u001b[38;5;28;01mimport\u001b[39;00m \u001b[38;5;21;01mjson\u001b[39;00m\u001b[38;5;241m,\u001b[39m \u001b[38;5;21;01msys\u001b[39;00m\n\u001b[1;32m      3\u001b[0m \u001b[38;5;28;01mfrom\u001b[39;00m \u001b[38;5;21;01mpathlib\u001b[39;00m \u001b[38;5;28;01mimport\u001b[39;00m Path\n\u001b[0;32m----> 4\u001b[0m \u001b[38;5;28;01mimport\u001b[39;00m \u001b[38;5;21;01mrdflib\u001b[39;00m\n\u001b[1;32m      6\u001b[0m \u001b[38;5;28;01mdef\u001b[39;00m \u001b[38;5;21mmain\u001b[39m():\n\u001b[1;32m      7\u001b[0m     \u001b[38;5;66;03m# assignment dir = .../projects/project-X/assignment OR repo root, but tests run from assignment dir\u001b[39;00m\n\u001b[1;32m      8\u001b[0m     base \u001b[38;5;241m=\u001b[39m Path(\u001b[38;5;18m__file__\u001b[39m)\u001b[38;5;241m.\u001b[39mresolve()\u001b[38;5;241m.\u001b[39mparents[\u001b[38;5;241m1\u001b[39m]\n",
      "\u001b[0;31mModuleNotFoundError\u001b[0m: No module named 'rdflib'"
     ]
    }
   ],
   "source": [
    "# src/check_env.py\n",
    "import json, sys\n",
    "from pathlib import Path\n",
    "import rdflib\n",
    "\n",
    "def main():\n",
    "    # assignment dir = .../projects/project-X/assignment OR repo root, but tests run from assignment dir\n",
    "    base = Path(__file__).resolve().parents[1]\n",
    "    ttl = base / \"notebooks\" / \"sample.ttl\"\n",
    "\n",
    "    # Fallbacks if notebook/test runner executes from a different CWD\n",
    "    if not ttl.exists():\n",
    "        alt = Path.cwd() / \"notebooks\" / \"sample.ttl\"\n",
    "        ttl = alt if alt.exists() else ttl\n",
    "\n",
    "    g = rdflib.Graph()\n",
    "    g.parse(str(ttl), format=\"turtle\")\n",
    "\n",
    "    print(json.dumps({\n",
    "        \"python\": sys.version.split()[0],\n",
    "        \"rdflib\": rdflib.__version__,\n",
    "        \"triple_count\": len(g)\n",
    "    }))\n",
    "\n",
    "if __name__ == \"__main__\":\n",
    "    main()\n"
   ]
  },
  {
   "cell_type": "code",
   "execution_count": null,
   "id": "ee95501b-1e3d-4650-9f31-1472fbcccfc4",
   "metadata": {},
   "outputs": [],
   "source": []
  },
  {
   "cell_type": "code",
   "execution_count": null,
   "id": "485f1a11-11de-4673-bd8e-e9e091d04a7b",
   "metadata": {},
   "outputs": [],
   "source": []
  }
 ],
 "metadata": {
  "kernelspec": {
   "display_name": "anaconda-2024.02-py310",
   "language": "python",
   "name": "conda-env-anaconda-2024.02-py310-py"
  },
  "language_info": {
   "codemirror_mode": {
    "name": "ipython",
    "version": 3
   },
   "file_extension": ".py",
   "mimetype": "text/x-python",
   "name": "python",
   "nbconvert_exporter": "python",
   "pygments_lexer": "ipython3",
   "version": "3.10.14"
  }
 },
 "nbformat": 4,
 "nbformat_minor": 5
}
